{
 "cells": [
  {
   "cell_type": "markdown",
   "metadata": {},
   "source": [
    "# Mini-Project: Data Wrangling and Transformation with Pandas\n",
    "\n",
    "Working with tabular data is a necessity for anyone with enterprises having a majority of their data in relational databases and flat files. This mini-project is adopted from the excellent tutorial on pandas by Brandon Rhodes which you have watched earlier in the Data Wrangling Unit. In this mini-project, we will be looking at some interesting data based on movie data from the IMDB.\n",
    "\n",
    "This assignment should help you reinforce the concepts you learnt in the curriculum for Data Wrangling and sharpen your skills in using Pandas. Good Luck!"
   ]
  },
  {
   "cell_type": "markdown",
   "metadata": {},
   "source": [
    "### Please make sure you have one of the more recent versions of Pandas"
   ]
  },
  {
   "cell_type": "code",
   "execution_count": 1,
   "metadata": {},
   "outputs": [],
   "source": [
    "import pandas as pd\n",
    "import matplotlib.pyplot as plt\n",
    "\n",
    "%matplotlib inline"
   ]
  },
  {
   "cell_type": "code",
   "execution_count": 2,
   "metadata": {},
   "outputs": [
    {
     "data": {
      "text/plain": [
       "'0.23.0'"
      ]
     },
     "execution_count": 2,
     "metadata": {},
     "output_type": "execute_result"
    }
   ],
   "source": [
    "pd.__version__"
   ]
  },
  {
   "cell_type": "markdown",
   "metadata": {},
   "source": [
    "## Taking a look at the Movies dataset\n",
    "This data shows the movies based on their title and the year of release"
   ]
  },
  {
   "cell_type": "code",
   "execution_count": 3,
   "metadata": {},
   "outputs": [
    {
     "name": "stdout",
     "output_type": "stream",
     "text": [
      "<class 'pandas.core.frame.DataFrame'>\n",
      "RangeIndex: 244914 entries, 0 to 244913\n",
      "Data columns (total 2 columns):\n",
      "title    244914 non-null object\n",
      "year     244914 non-null int64\n",
      "dtypes: int64(1), object(1)\n",
      "memory usage: 3.7+ MB\n"
     ]
    }
   ],
   "source": [
    "movies = pd.read_csv('titles.csv')\n",
    "movies.info()"
   ]
  },
  {
   "cell_type": "code",
   "execution_count": 4,
   "metadata": {},
   "outputs": [
    {
     "data": {
      "text/html": [
       "<div>\n",
       "<style scoped>\n",
       "    .dataframe tbody tr th:only-of-type {\n",
       "        vertical-align: middle;\n",
       "    }\n",
       "\n",
       "    .dataframe tbody tr th {\n",
       "        vertical-align: top;\n",
       "    }\n",
       "\n",
       "    .dataframe thead th {\n",
       "        text-align: right;\n",
       "    }\n",
       "</style>\n",
       "<table border=\"1\" class=\"dataframe\">\n",
       "  <thead>\n",
       "    <tr style=\"text-align: right;\">\n",
       "      <th></th>\n",
       "      <th>title</th>\n",
       "      <th>year</th>\n",
       "    </tr>\n",
       "  </thead>\n",
       "  <tbody>\n",
       "    <tr>\n",
       "      <th>0</th>\n",
       "      <td>The Ticket to the Life</td>\n",
       "      <td>2009</td>\n",
       "    </tr>\n",
       "    <tr>\n",
       "      <th>1</th>\n",
       "      <td>Parallel Worlds: A New Rock Music Experience</td>\n",
       "      <td>2016</td>\n",
       "    </tr>\n",
       "    <tr>\n",
       "      <th>2</th>\n",
       "      <td>Morita - La hija de Jesus</td>\n",
       "      <td>2008</td>\n",
       "    </tr>\n",
       "    <tr>\n",
       "      <th>3</th>\n",
       "      <td>Gun</td>\n",
       "      <td>2017</td>\n",
       "    </tr>\n",
       "    <tr>\n",
       "      <th>4</th>\n",
       "      <td>Love or Nothing at All</td>\n",
       "      <td>2014</td>\n",
       "    </tr>\n",
       "  </tbody>\n",
       "</table>\n",
       "</div>"
      ],
      "text/plain": [
       "                                          title  year\n",
       "0                        The Ticket to the Life  2009\n",
       "1  Parallel Worlds: A New Rock Music Experience  2016\n",
       "2                     Morita - La hija de Jesus  2008\n",
       "3                                           Gun  2017\n",
       "4                        Love or Nothing at All  2014"
      ]
     },
     "execution_count": 4,
     "metadata": {},
     "output_type": "execute_result"
    }
   ],
   "source": [
    "movies.head()"
   ]
  },
  {
   "cell_type": "markdown",
   "metadata": {},
   "source": [
    "## Taking a look at the Cast dataset\n",
    "\n",
    "This data shows the cast (actors, actresses, supporting roles) for each movie\n",
    "\n",
    "- The attribute `n` basically tells the importance of the cast role, lower the number, more important the role.\n",
    "- Supporting cast usually don't have any value for `n`"
   ]
  },
  {
   "cell_type": "code",
   "execution_count": 7,
   "metadata": {},
   "outputs": [
    {
     "name": "stdout",
     "output_type": "stream",
     "text": [
      "<class 'pandas.core.frame.DataFrame'>\n",
      "RangeIndex: 3786176 entries, 0 to 3786175\n",
      "Data columns (total 6 columns):\n",
      "title        object\n",
      "year         int64\n",
      "name         object\n",
      "type         object\n",
      "character    object\n",
      "n            float64\n",
      "dtypes: float64(1), int64(1), object(4)\n",
      "memory usage: 173.3+ MB\n"
     ]
    }
   ],
   "source": [
    "cast = pd.read_csv('cast.csv.zip')\n",
    "cast.info()"
   ]
  },
  {
   "cell_type": "code",
   "execution_count": 8,
   "metadata": {},
   "outputs": [
    {
     "data": {
      "text/html": [
       "<div>\n",
       "<style scoped>\n",
       "    .dataframe tbody tr th:only-of-type {\n",
       "        vertical-align: middle;\n",
       "    }\n",
       "\n",
       "    .dataframe tbody tr th {\n",
       "        vertical-align: top;\n",
       "    }\n",
       "\n",
       "    .dataframe thead th {\n",
       "        text-align: right;\n",
       "    }\n",
       "</style>\n",
       "<table border=\"1\" class=\"dataframe\">\n",
       "  <thead>\n",
       "    <tr style=\"text-align: right;\">\n",
       "      <th></th>\n",
       "      <th>title</th>\n",
       "      <th>year</th>\n",
       "      <th>name</th>\n",
       "      <th>type</th>\n",
       "      <th>character</th>\n",
       "      <th>n</th>\n",
       "    </tr>\n",
       "  </thead>\n",
       "  <tbody>\n",
       "    <tr>\n",
       "      <th>0</th>\n",
       "      <td>Closet Monster</td>\n",
       "      <td>2015</td>\n",
       "      <td>Buffy #1</td>\n",
       "      <td>actor</td>\n",
       "      <td>Buffy 4</td>\n",
       "      <td>31.0</td>\n",
       "    </tr>\n",
       "    <tr>\n",
       "      <th>1</th>\n",
       "      <td>Suuri illusioni</td>\n",
       "      <td>1985</td>\n",
       "      <td>Homo $</td>\n",
       "      <td>actor</td>\n",
       "      <td>Guests</td>\n",
       "      <td>22.0</td>\n",
       "    </tr>\n",
       "    <tr>\n",
       "      <th>2</th>\n",
       "      <td>Battle of the Sexes</td>\n",
       "      <td>2017</td>\n",
       "      <td>$hutter</td>\n",
       "      <td>actor</td>\n",
       "      <td>Bobby Riggs Fan</td>\n",
       "      <td>10.0</td>\n",
       "    </tr>\n",
       "    <tr>\n",
       "      <th>3</th>\n",
       "      <td>Secret in Their Eyes</td>\n",
       "      <td>2015</td>\n",
       "      <td>$hutter</td>\n",
       "      <td>actor</td>\n",
       "      <td>2002 Dodger Fan</td>\n",
       "      <td>NaN</td>\n",
       "    </tr>\n",
       "    <tr>\n",
       "      <th>4</th>\n",
       "      <td>Steve Jobs</td>\n",
       "      <td>2015</td>\n",
       "      <td>$hutter</td>\n",
       "      <td>actor</td>\n",
       "      <td>1988 Opera House Patron</td>\n",
       "      <td>NaN</td>\n",
       "    </tr>\n",
       "    <tr>\n",
       "      <th>5</th>\n",
       "      <td>Straight Outta Compton</td>\n",
       "      <td>2015</td>\n",
       "      <td>$hutter</td>\n",
       "      <td>actor</td>\n",
       "      <td>Club Patron</td>\n",
       "      <td>NaN</td>\n",
       "    </tr>\n",
       "    <tr>\n",
       "      <th>6</th>\n",
       "      <td>Straight Outta Compton</td>\n",
       "      <td>2015</td>\n",
       "      <td>$hutter</td>\n",
       "      <td>actor</td>\n",
       "      <td>Dopeman</td>\n",
       "      <td>NaN</td>\n",
       "    </tr>\n",
       "    <tr>\n",
       "      <th>7</th>\n",
       "      <td>For Thy Love 2</td>\n",
       "      <td>2009</td>\n",
       "      <td>Bee Moe $lim</td>\n",
       "      <td>actor</td>\n",
       "      <td>Thug 1</td>\n",
       "      <td>NaN</td>\n",
       "    </tr>\n",
       "    <tr>\n",
       "      <th>8</th>\n",
       "      <td>Lapis, Ballpen at Diploma, a True to Life Journey</td>\n",
       "      <td>2014</td>\n",
       "      <td>Jori ' Danilo' Jurado Jr.</td>\n",
       "      <td>actor</td>\n",
       "      <td>Jaime (young)</td>\n",
       "      <td>9.0</td>\n",
       "    </tr>\n",
       "    <tr>\n",
       "      <th>9</th>\n",
       "      <td>Desire (III)</td>\n",
       "      <td>2014</td>\n",
       "      <td>Syaiful 'Ariffin</td>\n",
       "      <td>actor</td>\n",
       "      <td>Actor Playing Eteocles from 'Antigone'</td>\n",
       "      <td>NaN</td>\n",
       "    </tr>\n",
       "  </tbody>\n",
       "</table>\n",
       "</div>"
      ],
      "text/plain": [
       "                                               title  year  \\\n",
       "0                                     Closet Monster  2015   \n",
       "1                                    Suuri illusioni  1985   \n",
       "2                                Battle of the Sexes  2017   \n",
       "3                               Secret in Their Eyes  2015   \n",
       "4                                         Steve Jobs  2015   \n",
       "5                             Straight Outta Compton  2015   \n",
       "6                             Straight Outta Compton  2015   \n",
       "7                                     For Thy Love 2  2009   \n",
       "8  Lapis, Ballpen at Diploma, a True to Life Journey  2014   \n",
       "9                                       Desire (III)  2014   \n",
       "\n",
       "                        name   type                               character  \\\n",
       "0                   Buffy #1  actor                                 Buffy 4   \n",
       "1                     Homo $  actor                                  Guests   \n",
       "2                    $hutter  actor                         Bobby Riggs Fan   \n",
       "3                    $hutter  actor                         2002 Dodger Fan   \n",
       "4                    $hutter  actor                 1988 Opera House Patron   \n",
       "5                    $hutter  actor                             Club Patron   \n",
       "6                    $hutter  actor                                 Dopeman   \n",
       "7               Bee Moe $lim  actor                                  Thug 1   \n",
       "8  Jori ' Danilo' Jurado Jr.  actor                           Jaime (young)   \n",
       "9           Syaiful 'Ariffin  actor  Actor Playing Eteocles from 'Antigone'   \n",
       "\n",
       "      n  \n",
       "0  31.0  \n",
       "1  22.0  \n",
       "2  10.0  \n",
       "3   NaN  \n",
       "4   NaN  \n",
       "5   NaN  \n",
       "6   NaN  \n",
       "7   NaN  \n",
       "8   9.0  \n",
       "9   NaN  "
      ]
     },
     "execution_count": 8,
     "metadata": {},
     "output_type": "execute_result"
    }
   ],
   "source": [
    "cast.head(10)"
   ]
  },
  {
   "cell_type": "code",
   "execution_count": null,
   "metadata": {},
   "outputs": [],
   "source": []
  },
  {
   "cell_type": "code",
   "execution_count": null,
   "metadata": {},
   "outputs": [],
   "source": []
  },
  {
   "cell_type": "markdown",
   "metadata": {},
   "source": [
    "## Taking a look at the Release dataset\n",
    "\n",
    "This data shows details of when each movie was release in each country with the release date"
   ]
  },
  {
   "cell_type": "code",
   "execution_count": 9,
   "metadata": {},
   "outputs": [
    {
     "name": "stdout",
     "output_type": "stream",
     "text": [
      "<class 'pandas.core.frame.DataFrame'>\n",
      "RangeIndex: 479488 entries, 0 to 479487\n",
      "Data columns (total 4 columns):\n",
      "title      479488 non-null object\n",
      "year       479488 non-null int64\n",
      "country    479488 non-null object\n",
      "date       479488 non-null datetime64[ns]\n",
      "dtypes: datetime64[ns](1), int64(1), object(2)\n",
      "memory usage: 14.6+ MB\n"
     ]
    }
   ],
   "source": [
    "release_dates = pd.read_csv('release_dates.csv', parse_dates=['date'], infer_datetime_format=True)\n",
    "release_dates.info()"
   ]
  },
  {
   "cell_type": "code",
   "execution_count": null,
   "metadata": {},
   "outputs": [],
   "source": []
  },
  {
   "cell_type": "code",
   "execution_count": 10,
   "metadata": {},
   "outputs": [
    {
     "data": {
      "text/html": [
       "<div>\n",
       "<style scoped>\n",
       "    .dataframe tbody tr th:only-of-type {\n",
       "        vertical-align: middle;\n",
       "    }\n",
       "\n",
       "    .dataframe tbody tr th {\n",
       "        vertical-align: top;\n",
       "    }\n",
       "\n",
       "    .dataframe thead th {\n",
       "        text-align: right;\n",
       "    }\n",
       "</style>\n",
       "<table border=\"1\" class=\"dataframe\">\n",
       "  <thead>\n",
       "    <tr style=\"text-align: right;\">\n",
       "      <th></th>\n",
       "      <th>title</th>\n",
       "      <th>year</th>\n",
       "      <th>country</th>\n",
       "      <th>date</th>\n",
       "    </tr>\n",
       "  </thead>\n",
       "  <tbody>\n",
       "    <tr>\n",
       "      <th>0</th>\n",
       "      <td>#73, Shaanthi Nivaasa</td>\n",
       "      <td>2007</td>\n",
       "      <td>India</td>\n",
       "      <td>2007-06-15</td>\n",
       "    </tr>\n",
       "    <tr>\n",
       "      <th>1</th>\n",
       "      <td>#BKKY</td>\n",
       "      <td>2016</td>\n",
       "      <td>Cambodia</td>\n",
       "      <td>2017-10-12</td>\n",
       "    </tr>\n",
       "    <tr>\n",
       "      <th>2</th>\n",
       "      <td>#Beings</td>\n",
       "      <td>2015</td>\n",
       "      <td>Romania</td>\n",
       "      <td>2015-01-29</td>\n",
       "    </tr>\n",
       "    <tr>\n",
       "      <th>3</th>\n",
       "      <td>#Captured</td>\n",
       "      <td>2017</td>\n",
       "      <td>USA</td>\n",
       "      <td>2017-09-05</td>\n",
       "    </tr>\n",
       "    <tr>\n",
       "      <th>4</th>\n",
       "      <td>#Ewankosau saranghaeyo</td>\n",
       "      <td>2015</td>\n",
       "      <td>Philippines</td>\n",
       "      <td>2015-01-21</td>\n",
       "    </tr>\n",
       "  </tbody>\n",
       "</table>\n",
       "</div>"
      ],
      "text/plain": [
       "                    title  year      country       date\n",
       "0   #73, Shaanthi Nivaasa  2007        India 2007-06-15\n",
       "1                   #BKKY  2016     Cambodia 2017-10-12\n",
       "2                 #Beings  2015      Romania 2015-01-29\n",
       "3               #Captured  2017          USA 2017-09-05\n",
       "4  #Ewankosau saranghaeyo  2015  Philippines 2015-01-21"
      ]
     },
     "execution_count": 10,
     "metadata": {},
     "output_type": "execute_result"
    }
   ],
   "source": [
    "release_dates.head()"
   ]
  },
  {
   "cell_type": "code",
   "execution_count": null,
   "metadata": {},
   "outputs": [],
   "source": []
  },
  {
   "cell_type": "markdown",
   "metadata": {},
   "source": [
    "# Section I - Basic Querying, Filtering and Transformations"
   ]
  },
  {
   "cell_type": "markdown",
   "metadata": {},
   "source": [
    "### What is the total number of movies?"
   ]
  },
  {
   "cell_type": "code",
   "execution_count": 12,
   "metadata": {},
   "outputs": [
    {
     "data": {
      "text/plain": [
       "244914"
      ]
     },
     "execution_count": 12,
     "metadata": {},
     "output_type": "execute_result"
    }
   ],
   "source": [
    "len(movies)"
   ]
  },
  {
   "cell_type": "markdown",
   "metadata": {},
   "source": [
    "### List all Batman movies ever made"
   ]
  },
  {
   "cell_type": "code",
   "execution_count": 13,
   "metadata": {},
   "outputs": [
    {
     "name": "stdout",
     "output_type": "stream",
     "text": [
      "Total Batman Movies: 2\n"
     ]
    },
    {
     "data": {
      "text/html": [
       "<div>\n",
       "<style scoped>\n",
       "    .dataframe tbody tr th:only-of-type {\n",
       "        vertical-align: middle;\n",
       "    }\n",
       "\n",
       "    .dataframe tbody tr th {\n",
       "        vertical-align: top;\n",
       "    }\n",
       "\n",
       "    .dataframe thead th {\n",
       "        text-align: right;\n",
       "    }\n",
       "</style>\n",
       "<table border=\"1\" class=\"dataframe\">\n",
       "  <thead>\n",
       "    <tr style=\"text-align: right;\">\n",
       "      <th></th>\n",
       "      <th>title</th>\n",
       "      <th>year</th>\n",
       "    </tr>\n",
       "  </thead>\n",
       "  <tbody>\n",
       "    <tr>\n",
       "      <th>52734</th>\n",
       "      <td>Batman</td>\n",
       "      <td>1943</td>\n",
       "    </tr>\n",
       "    <tr>\n",
       "      <th>150621</th>\n",
       "      <td>Batman</td>\n",
       "      <td>1989</td>\n",
       "    </tr>\n",
       "  </tbody>\n",
       "</table>\n",
       "</div>"
      ],
      "text/plain": [
       "         title  year\n",
       "52734   Batman  1943\n",
       "150621  Batman  1989"
      ]
     },
     "execution_count": 13,
     "metadata": {},
     "output_type": "execute_result"
    }
   ],
   "source": [
    "batman_df = movies[movies.title == 'Batman']\n",
    "print('Total Batman Movies:', len(batman_df))\n",
    "batman_df"
   ]
  },
  {
   "cell_type": "markdown",
   "metadata": {},
   "source": [
    "### List all Batman movies ever made - the right approach"
   ]
  },
  {
   "cell_type": "code",
   "execution_count": 14,
   "metadata": {},
   "outputs": [
    {
     "name": "stdout",
     "output_type": "stream",
     "text": [
      "Total Batman Movies: 35\n"
     ]
    },
    {
     "data": {
      "text/html": [
       "<div>\n",
       "<style scoped>\n",
       "    .dataframe tbody tr th:only-of-type {\n",
       "        vertical-align: middle;\n",
       "    }\n",
       "\n",
       "    .dataframe tbody tr th {\n",
       "        vertical-align: top;\n",
       "    }\n",
       "\n",
       "    .dataframe thead th {\n",
       "        text-align: right;\n",
       "    }\n",
       "</style>\n",
       "<table border=\"1\" class=\"dataframe\">\n",
       "  <thead>\n",
       "    <tr style=\"text-align: right;\">\n",
       "      <th></th>\n",
       "      <th>title</th>\n",
       "      <th>year</th>\n",
       "    </tr>\n",
       "  </thead>\n",
       "  <tbody>\n",
       "    <tr>\n",
       "      <th>16813</th>\n",
       "      <td>Batman: Anarchy</td>\n",
       "      <td>2016</td>\n",
       "    </tr>\n",
       "    <tr>\n",
       "      <th>30236</th>\n",
       "      <td>Batman Forever</td>\n",
       "      <td>1995</td>\n",
       "    </tr>\n",
       "    <tr>\n",
       "      <th>31674</th>\n",
       "      <td>Batman Untold</td>\n",
       "      <td>2010</td>\n",
       "    </tr>\n",
       "    <tr>\n",
       "      <th>31711</th>\n",
       "      <td>Scooby-Doo &amp; Batman: the Brave and the Bold</td>\n",
       "      <td>2018</td>\n",
       "    </tr>\n",
       "    <tr>\n",
       "      <th>41881</th>\n",
       "      <td>Batman the Rise of Red Hood</td>\n",
       "      <td>2018</td>\n",
       "    </tr>\n",
       "    <tr>\n",
       "      <th>43484</th>\n",
       "      <td>Batman: Return of the Caped Crusaders</td>\n",
       "      <td>2016</td>\n",
       "    </tr>\n",
       "    <tr>\n",
       "      <th>46333</th>\n",
       "      <td>Batman &amp; Robin</td>\n",
       "      <td>1997</td>\n",
       "    </tr>\n",
       "    <tr>\n",
       "      <th>51811</th>\n",
       "      <td>Batman Revealed</td>\n",
       "      <td>2012</td>\n",
       "    </tr>\n",
       "    <tr>\n",
       "      <th>52734</th>\n",
       "      <td>Batman</td>\n",
       "      <td>1943</td>\n",
       "    </tr>\n",
       "    <tr>\n",
       "      <th>56029</th>\n",
       "      <td>Batman Beyond: Rising Knight</td>\n",
       "      <td>2014</td>\n",
       "    </tr>\n",
       "  </tbody>\n",
       "</table>\n",
       "</div>"
      ],
      "text/plain": [
       "                                             title  year\n",
       "16813                              Batman: Anarchy  2016\n",
       "30236                               Batman Forever  1995\n",
       "31674                                Batman Untold  2010\n",
       "31711  Scooby-Doo & Batman: the Brave and the Bold  2018\n",
       "41881                  Batman the Rise of Red Hood  2018\n",
       "43484        Batman: Return of the Caped Crusaders  2016\n",
       "46333                               Batman & Robin  1997\n",
       "51811                              Batman Revealed  2012\n",
       "52734                                       Batman  1943\n",
       "56029                 Batman Beyond: Rising Knight  2014"
      ]
     },
     "execution_count": 14,
     "metadata": {},
     "output_type": "execute_result"
    }
   ],
   "source": [
    "batman_df = movies[movies.title.str.contains('Batman', case=False)]\n",
    "print('Total Batman Movies:', len(batman_df))\n",
    "batman_df.head(10)"
   ]
  },
  {
   "cell_type": "markdown",
   "metadata": {},
   "source": [
    "### Display the top 15 Batman movies in the order they were released"
   ]
  },
  {
   "cell_type": "code",
   "execution_count": 15,
   "metadata": {},
   "outputs": [
    {
     "data": {
      "text/html": [
       "<div>\n",
       "<style scoped>\n",
       "    .dataframe tbody tr th:only-of-type {\n",
       "        vertical-align: middle;\n",
       "    }\n",
       "\n",
       "    .dataframe tbody tr th {\n",
       "        vertical-align: top;\n",
       "    }\n",
       "\n",
       "    .dataframe thead th {\n",
       "        text-align: right;\n",
       "    }\n",
       "</style>\n",
       "<table border=\"1\" class=\"dataframe\">\n",
       "  <thead>\n",
       "    <tr style=\"text-align: right;\">\n",
       "      <th></th>\n",
       "      <th>title</th>\n",
       "      <th>year</th>\n",
       "    </tr>\n",
       "  </thead>\n",
       "  <tbody>\n",
       "    <tr>\n",
       "      <th>52734</th>\n",
       "      <td>Batman</td>\n",
       "      <td>1943</td>\n",
       "    </tr>\n",
       "    <tr>\n",
       "      <th>100056</th>\n",
       "      <td>Batman and Robin</td>\n",
       "      <td>1949</td>\n",
       "    </tr>\n",
       "    <tr>\n",
       "      <th>161439</th>\n",
       "      <td>Batman Dracula</td>\n",
       "      <td>1964</td>\n",
       "    </tr>\n",
       "    <tr>\n",
       "      <th>84327</th>\n",
       "      <td>Alyas Batman at Robin</td>\n",
       "      <td>1965</td>\n",
       "    </tr>\n",
       "    <tr>\n",
       "      <th>68364</th>\n",
       "      <td>James Batman</td>\n",
       "      <td>1966</td>\n",
       "    </tr>\n",
       "    <tr>\n",
       "      <th>161527</th>\n",
       "      <td>Batman: The Movie</td>\n",
       "      <td>1966</td>\n",
       "    </tr>\n",
       "    <tr>\n",
       "      <th>56159</th>\n",
       "      <td>Batman Fights Dracula</td>\n",
       "      <td>1967</td>\n",
       "    </tr>\n",
       "    <tr>\n",
       "      <th>168504</th>\n",
       "      <td>Fight! Batman, Fight!</td>\n",
       "      <td>1973</td>\n",
       "    </tr>\n",
       "    <tr>\n",
       "      <th>150621</th>\n",
       "      <td>Batman</td>\n",
       "      <td>1989</td>\n",
       "    </tr>\n",
       "    <tr>\n",
       "      <th>156239</th>\n",
       "      <td>Alyas Batman en Robin</td>\n",
       "      <td>1991</td>\n",
       "    </tr>\n",
       "    <tr>\n",
       "      <th>156755</th>\n",
       "      <td>Batman Returns</td>\n",
       "      <td>1992</td>\n",
       "    </tr>\n",
       "    <tr>\n",
       "      <th>63366</th>\n",
       "      <td>Batman: Mask of the Phantasm</td>\n",
       "      <td>1993</td>\n",
       "    </tr>\n",
       "    <tr>\n",
       "      <th>30236</th>\n",
       "      <td>Batman Forever</td>\n",
       "      <td>1995</td>\n",
       "    </tr>\n",
       "    <tr>\n",
       "      <th>46333</th>\n",
       "      <td>Batman &amp; Robin</td>\n",
       "      <td>1997</td>\n",
       "    </tr>\n",
       "    <tr>\n",
       "      <th>208220</th>\n",
       "      <td>Batman Begins</td>\n",
       "      <td>2005</td>\n",
       "    </tr>\n",
       "  </tbody>\n",
       "</table>\n",
       "</div>"
      ],
      "text/plain": [
       "                               title  year\n",
       "52734                         Batman  1943\n",
       "100056              Batman and Robin  1949\n",
       "161439                Batman Dracula  1964\n",
       "84327          Alyas Batman at Robin  1965\n",
       "68364                   James Batman  1966\n",
       "161527             Batman: The Movie  1966\n",
       "56159          Batman Fights Dracula  1967\n",
       "168504         Fight! Batman, Fight!  1973\n",
       "150621                        Batman  1989\n",
       "156239         Alyas Batman en Robin  1991\n",
       "156755                Batman Returns  1992\n",
       "63366   Batman: Mask of the Phantasm  1993\n",
       "30236                 Batman Forever  1995\n",
       "46333                 Batman & Robin  1997\n",
       "208220                 Batman Begins  2005"
      ]
     },
     "execution_count": 15,
     "metadata": {},
     "output_type": "execute_result"
    }
   ],
   "source": [
    "batman_df.sort_values(by=['year'], ascending=True).iloc[:15]"
   ]
  },
  {
   "cell_type": "markdown",
   "metadata": {},
   "source": [
    "### Section I - Q1 : List all the 'Harry Potter' movies from the most recent to the earliest"
   ]
  },
  {
   "cell_type": "code",
   "execution_count": 18,
   "metadata": {},
   "outputs": [],
   "source": [
    "harry_potter_df = movies[movies.title.str.contains('harry potter', case=False)]"
   ]
  },
  {
   "cell_type": "code",
   "execution_count": 23,
   "metadata": {},
   "outputs": [
    {
     "name": "stdout",
     "output_type": "stream",
     "text": [
      "                                               title  year\n",
      "143147  Harry Potter and the Deathly Hallows: Part 2  2011\n",
      "152831  Harry Potter and the Deathly Hallows: Part 1  2010\n",
      "109213        Harry Potter and the Half-Blood Prince  2009\n",
      "50581      Harry Potter and the Order of the Phoenix  2007\n",
      "187926           Harry Potter and the Goblet of Fire  2005\n",
      "61957       Harry Potter and the Prisoner of Azkaban  2004\n",
      "82791        Harry Potter and the Chamber of Secrets  2002\n",
      "223087         Harry Potter and the Sorcerer's Stone  2001\n"
     ]
    }
   ],
   "source": [
    "print(harry_potter_df.sort_values(by='year', ascending=False))"
   ]
  },
  {
   "cell_type": "markdown",
   "metadata": {},
   "source": [
    "### How many movies were made in the year 2017?"
   ]
  },
  {
   "cell_type": "code",
   "execution_count": 24,
   "metadata": {},
   "outputs": [
    {
     "data": {
      "text/plain": [
       "11474"
      ]
     },
     "execution_count": 24,
     "metadata": {},
     "output_type": "execute_result"
    }
   ],
   "source": [
    "len(movies[movies.year == 2017])"
   ]
  },
  {
   "cell_type": "markdown",
   "metadata": {},
   "source": [
    "### Section I - Q2 : How many movies were made in the year 2015?"
   ]
  },
  {
   "cell_type": "code",
   "execution_count": 25,
   "metadata": {},
   "outputs": [
    {
     "data": {
      "text/plain": [
       "8702"
      ]
     },
     "execution_count": 25,
     "metadata": {},
     "output_type": "execute_result"
    }
   ],
   "source": [
    "len(movies[movies.year == 2015])"
   ]
  },
  {
   "cell_type": "markdown",
   "metadata": {},
   "source": [
    "### Section I - Q3 : How many movies were made from 2000 till 2018?\n",
    "- You can chain multiple conditions using OR (`|`) as well as AND (`&`) depending on the condition"
   ]
  },
  {
   "cell_type": "code",
   "execution_count": 36,
   "metadata": {},
   "outputs": [
    {
     "name": "stdout",
     "output_type": "stream",
     "text": [
      "114070\n"
     ]
    }
   ],
   "source": [
    "a = (movies.year >= 2000) & (movies.year <= 2018)\n",
    "print(len(movies[a]))"
   ]
  },
  {
   "cell_type": "markdown",
   "metadata": {},
   "source": [
    "### Section I - Q4: How many movies are titled \"Hamlet\"?"
   ]
  },
  {
   "cell_type": "code",
   "execution_count": 37,
   "metadata": {},
   "outputs": [
    {
     "name": "stdout",
     "output_type": "stream",
     "text": [
      "57\n"
     ]
    }
   ],
   "source": [
    "print(len(movies[movies.title.str.contains('hamlet', case=False)]))"
   ]
  },
  {
   "cell_type": "markdown",
   "metadata": {},
   "source": [
    "### Section I - Q5: List all movies titled \"Hamlet\" \n",
    "- The movies should only have been released on or after the year 2000\n",
    "- Display the movies based on the year they were released (earliest to most recent)"
   ]
  },
  {
   "cell_type": "code",
   "execution_count": 38,
   "metadata": {},
   "outputs": [],
   "source": [
    "criteria_a = (movies.title.str.contains('hamlet', case=False))\n",
    "criteria_b = (movies.year >= 2000)\n",
    "movies_df = movies[criteria_a & criteria_b].sort_values(by='year')"
   ]
  },
  {
   "cell_type": "code",
   "execution_count": 39,
   "metadata": {},
   "outputs": [
    {
     "name": "stdout",
     "output_type": "stream",
     "text": [
      "                                          title  year\n",
      "55639                                    Hamlet  2000\n",
      "55525                    Hamlet in the Hamptons  2002\n",
      "137905                                 Hamlet_X  2003\n",
      "218468                                 Hamlet X  2004\n",
      "40045                               Hamlet (II)  2005\n",
      "152920          Dogg's Hamlet, Cahoot's Macbeth  2005\n",
      "200246  The Tragedy of Hamlet Prince of Denmark  2007\n",
      "176528                              Hamlet (II)  2007\n",
      "156899                             Hamlet (III)  2007\n",
      "52408                 Hamlet the Vampire Slayer  2008\n",
      "141237                                 Hamlet 2  2008\n",
      "191734                           Kitchen Hamlet  2009\n",
      "1931                                     Hamlet  2009\n",
      "227953                                   Hamlet  2011\n",
      "220674                     Hamlet Demonstration  2011\n",
      "51236                            Hamlet Unbound  2012\n",
      "17833                             Zombie Hamlet  2012\n",
      "186136                      Harry, Hamlet and I  2013\n",
      "178290                                   Hamlet  2014\n",
      "10364                             Hamlet A.D.D.  2014\n",
      "186137                                   Hamlet  2015\n",
      "133802            National Theatre Live: Hamlet  2015\n",
      "44571                               Hamlet (II)  2015\n",
      "17531                            Hamlet's Ghost  2015\n",
      "209533                 Hamlet, Son of a Kingpin  2015\n",
      "70547         Royal Shakespeare Company: Hamlet  2016\n",
      "191940                                   Hamlet  2016\n",
      "98329                               Hamlet (II)  2017\n",
      "50271                            Hamlet/Horatio  2017\n",
      "240089                Hamlet in the Golden Vale  2017\n",
      "244747                                   Hamlet  2017\n",
      "78217             Hamlet: The Fall of a Sparrow  2018\n"
     ]
    }
   ],
   "source": [
    "print(movies_df)"
   ]
  },
  {
   "cell_type": "markdown",
   "metadata": {},
   "source": [
    "### Section I - Q6: How many roles in the movie \"Inception\" are of the supporting cast (extra credits)\n",
    "- supporting cast are NOT ranked by an \"n\" value (NaN)\n",
    "- check for how to filter based on nulls"
   ]
  },
  {
   "cell_type": "code",
   "execution_count": 40,
   "metadata": {},
   "outputs": [
    {
     "name": "stdout",
     "output_type": "stream",
     "text": [
      "                  title  year      name   type                character     n\n",
      "0        Closet Monster  2015  Buffy #1  actor                  Buffy 4  31.0\n",
      "1       Suuri illusioni  1985    Homo $  actor                   Guests  22.0\n",
      "2   Battle of the Sexes  2017   $hutter  actor          Bobby Riggs Fan  10.0\n",
      "3  Secret in Their Eyes  2015   $hutter  actor          2002 Dodger Fan   NaN\n",
      "4            Steve Jobs  2015   $hutter  actor  1988 Opera House Patron   NaN\n"
     ]
    }
   ],
   "source": [
    "print(cast.head())"
   ]
  },
  {
   "cell_type": "code",
   "execution_count": 50,
   "metadata": {},
   "outputs": [
    {
     "name": "stdout",
     "output_type": "stream",
     "text": [
      "36\n"
     ]
    }
   ],
   "source": [
    "crit_a = (cast['title'].str.contains('inception', case=False))\n",
    "crit_b = (cast['n'].isna())\n",
    "print(len(cast[crit_a & crit_b]))"
   ]
  },
  {
   "cell_type": "markdown",
   "metadata": {},
   "source": [
    "### Section I - Q7: How many roles in the movie \"Inception\" are of the main cast\n",
    "- main cast always have an 'n' value"
   ]
  },
  {
   "cell_type": "code",
   "execution_count": 51,
   "metadata": {},
   "outputs": [
    {
     "name": "stdout",
     "output_type": "stream",
     "text": [
      "51\n"
     ]
    }
   ],
   "source": [
    "crit_a = (cast['title'].str.contains('inception', case=False))\n",
    "crit_b = (cast['n'].isna() == False)\n",
    "print(len(cast[crit_a & crit_b]))"
   ]
  },
  {
   "cell_type": "markdown",
   "metadata": {},
   "source": [
    "### Section I - Q8: Show the top ten cast (actors\\actresses) in the movie \"Inception\" \n",
    "- main cast always have an 'n' value\n",
    "- remember to sort!"
   ]
  },
  {
   "cell_type": "code",
   "execution_count": 55,
   "metadata": {},
   "outputs": [
    {
     "name": "stdout",
     "output_type": "stream",
     "text": [
      "             title  year                name     type              character  \\\n",
      "3731263  Inception  2010      Shannon Welles  actress                Old Mal   \n",
      "833376   Inception  2010         Jack Gilroy    actor               Old Cobb   \n",
      "2250605  Inception  2010       Jason Tendell    actor       Fischer's Driver   \n",
      "3473041  Inception  2010  Lisa (II) Reynolds  actress          Private Nurse   \n",
      "1812091  Inception  2010      Andrew Pleavin    actor            Businessman   \n",
      "2049179  Inception  2010         Felix Scott    actor            Businessman   \n",
      "807795   Inception  2010      Michael Gaston    actor    Immigration Officer   \n",
      "149008   Inception  2010        Peter Basham    actor  Fischer's Jet Captain   \n",
      "3444628  Inception  2010      Nicole Pulliam  actress          Lobby Sub Con   \n",
      "3203564  Inception  2010   Alex (II) Lombard  actress          Lobby Sub Con   \n",
      "\n",
      "            n  \n",
      "3731263  51.0  \n",
      "833376   50.0  \n",
      "2250605  49.0  \n",
      "3473041  48.0  \n",
      "1812091  47.0  \n",
      "2049179  46.0  \n",
      "807795   45.0  \n",
      "149008   44.0  \n",
      "3444628  43.0  \n",
      "3203564  42.0  \n"
     ]
    }
   ],
   "source": [
    "crit_a = (cast['title'].str.contains('inception', case=False))\n",
    "crit_b = (cast['n'].isna() == False)\n",
    "print(cast[crit_a & crit_b].sort_values(by='n', ascending=False).head(10))"
   ]
  },
  {
   "cell_type": "markdown",
   "metadata": {},
   "source": [
    "### Section I - Q9:\n",
    "\n",
    "(A) List all movies where there was a character 'Albus Dumbledore' \n",
    "\n",
    "(B) Now modify the above to show only the actors who played the character 'Albus Dumbledore'\n",
    "- For Part (B) remember the same actor might play the same role in multiple movies"
   ]
  },
  {
   "cell_type": "code",
   "execution_count": 58,
   "metadata": {},
   "outputs": [
    {
     "name": "stdout",
     "output_type": "stream",
     "text": [
      "704984                                       Epic Movie\n",
      "792419     Harry Potter and the Deathly Hallows: Part 1\n",
      "792420     Harry Potter and the Deathly Hallows: Part 2\n",
      "792421              Harry Potter and the Goblet of Fire\n",
      "792422           Harry Potter and the Half-Blood Prince\n",
      "792423        Harry Potter and the Order of the Phoenix\n",
      "792424         Harry Potter and the Prisoner of Azkaban\n",
      "947789          Harry Potter and the Chamber of Secrets\n",
      "947790            Harry Potter and the Sorcerer's Stone\n",
      "1685537                           Ultimate Hero Project\n",
      "1893421    Harry Potter and the Deathly Hallows: Part 1\n",
      "2248085                                          Potter\n",
      "Name: title, dtype: object\n"
     ]
    }
   ],
   "source": [
    "rows = cast[cast['character'].str.contains('Albus Dumbledore', case=False)]\n",
    "print(rows['title'])"
   ]
  },
  {
   "cell_type": "code",
   "execution_count": 63,
   "metadata": {},
   "outputs": [
    {
     "name": "stdout",
     "output_type": "stream",
     "text": [
      "['Dane Farwell' 'Michael Gambon' 'Richard Harris' \"George (X) O'Connor\"\n",
      " 'Toby Regbo' 'Timothy Tedmanson']\n"
     ]
    }
   ],
   "source": [
    "crit_a = (cast['character'].str.contains('Albus Dumbledore', case=False))\n",
    "crit_b = (cast['type'] == 'actor')\n",
    "rows = cast[crit_a & crit_b]\n",
    "print(rows['name'].unique())"
   ]
  },
  {
   "cell_type": "markdown",
   "metadata": {},
   "source": [
    "### Section I - Q10:\n",
    "\n",
    "(A) How many roles has 'Keanu Reeves' played throughout his career?\n",
    "\n",
    "(B) List the leading roles that 'Keanu Reeves' played on or after 1999 in order by year."
   ]
  },
  {
   "cell_type": "code",
   "execution_count": 65,
   "metadata": {},
   "outputs": [
    {
     "name": "stdout",
     "output_type": "stream",
     "text": [
      "62\n"
     ]
    }
   ],
   "source": [
    "print(len(cast[cast['name'].str.contains('Keanu Reeves', case=False)]))"
   ]
  },
  {
   "cell_type": "markdown",
   "metadata": {},
   "source": [
    "### Section I - Q11: \n",
    "\n",
    "(A) List the total number of actor and actress roles available from 1950 - 1960\n",
    "\n",
    "(B) List the total number of actor and actress roles available from 2007 - 2017"
   ]
  },
  {
   "cell_type": "code",
   "execution_count": 74,
   "metadata": {},
   "outputs": [
    {
     "name": "stdout",
     "output_type": "stream",
     "text": [
      "actor      171302\n",
      "actress     63333\n",
      "Name: type, dtype: int64\n"
     ]
    }
   ],
   "source": [
    "crit_a = (cast['year'] >= 1950)\n",
    "crit_b = (cast['year'] <= 1960)\n",
    "filtered_df = cast[crit_a & crit_b]\n",
    "print(filtered_df['type'].value_counts())"
   ]
  },
  {
   "cell_type": "markdown",
   "metadata": {},
   "source": [
    "### Section I - Q12: \n",
    "\n",
    "(A) List the total number of leading roles available from 2000 to present\n",
    "\n",
    "(B) List the total number of non-leading roles available from 2000 - present (exclude support cast)\n",
    "\n",
    "(C) List the total number of support\\extra-credit roles available from 2000 - present"
   ]
  },
  {
   "cell_type": "code",
   "execution_count": 81,
   "metadata": {},
   "outputs": [
    {
     "name": "stdout",
     "output_type": "stream",
     "text": [
      "1062278\n"
     ]
    }
   ],
   "source": [
    "crit_a = (cast['year'] >= 2000)\n",
    "crit_b = (cast['n'].isna() == False)\n",
    "print(len(cast[crit_a & crit_b]))"
   ]
  },
  {
   "cell_type": "code",
   "execution_count": 80,
   "metadata": {},
   "outputs": [
    {
     "name": "stdout",
     "output_type": "stream",
     "text": [
      "357681\n"
     ]
    }
   ],
   "source": [
    "# main roles have an n value. the lower the n value the more important the role. so i assume the leading roles\n",
    "# have an n value of 1 -20\n",
    "# non - leading roles have an n value > 20\n",
    "# support roles have no n value\n",
    "crit_b = (cast['n'] > 20)\n",
    "print(len(cast[crit_a & crit_b]))"
   ]
  },
  {
   "cell_type": "code",
   "execution_count": 82,
   "metadata": {},
   "outputs": [
    {
     "name": "stdout",
     "output_type": "stream",
     "text": [
      "887484\n"
     ]
    }
   ],
   "source": [
    "crit_b = (cast['n'].isna())\n",
    "print(len(cast[crit_a & crit_b]))"
   ]
  },
  {
   "cell_type": "markdown",
   "metadata": {},
   "source": [
    "# Section II - Aggregations, Transformations and Visualizations"
   ]
  },
  {
   "cell_type": "markdown",
   "metadata": {},
   "source": [
    "## What are the top ten most common movie names of all time?\n"
   ]
  },
  {
   "cell_type": "code",
   "execution_count": 11,
   "metadata": {},
   "outputs": [
    {
     "data": {
      "text/plain": [
       "Hamlet                  20\n",
       "Carmen                  17\n",
       "Macbeth                 16\n",
       "Temptation              12\n",
       "The Outsider            12\n",
       "Maya                    12\n",
       "Othello                 11\n",
       "Freedom                 11\n",
       "The Three Musketeers    11\n",
       "Honeymoon               11\n",
       "Name: title, dtype: int64"
      ]
     },
     "execution_count": 11,
     "metadata": {},
     "output_type": "execute_result"
    }
   ],
   "source": [
    "top_ten = movies.title.value_counts()[:10]\n",
    "top_ten"
   ]
  },
  {
   "cell_type": "code",
   "execution_count": null,
   "metadata": {},
   "outputs": [],
   "source": []
  },
  {
   "cell_type": "markdown",
   "metadata": {},
   "source": [
    "### Plot the top ten common movie names of all time"
   ]
  },
  {
   "cell_type": "code",
   "execution_count": 12,
   "metadata": {},
   "outputs": [
    {
     "data": {
      "text/plain": [
       "<matplotlib.axes._subplots.AxesSubplot at 0x12625d940>"
      ]
     },
     "execution_count": 12,
     "metadata": {},
     "output_type": "execute_result"
    },
    {
     "data": {
      "image/png": "[encoded data removed]",
      "text/plain": [
       "<Figure size 432x288 with 1 Axes>"
      ]
     },
     "metadata": {},
     "output_type": "display_data"
    }
   ],
   "source": [
    "top_ten.plot(kind='bar')"
   ]
  },
  {
   "cell_type": "code",
   "execution_count": null,
   "metadata": {},
   "outputs": [],
   "source": []
  },
  {
   "cell_type": "markdown",
   "metadata": {},
   "source": [
    "### Section II - Q1:  Which years in the 2000s saw the most movies released? (Show top 3)"
   ]
  },
  {
   "cell_type": "code",
   "execution_count": 13,
   "metadata": {},
   "outputs": [
    {
     "name": "stdout",
     "output_type": "stream",
     "text": [
      "2010    6415\n",
      "2009    6125\n",
      "2008    5151\n",
      "Name: year, dtype: int64\n"
     ]
    }
   ],
   "source": [
    "crit_a = (movies['year'] >= 2000)\n",
    "crit_b = (movies['year'] <= 2010)\n",
    "movies_2000s_df = movies[crit_a & crit_b]\n",
    "# movies_decade_map \n",
    "\n",
    "print(movies_2000s_df['year'].value_counts(sort=True)[:3])"
   ]
  },
  {
   "cell_type": "markdown",
   "metadata": {},
   "source": [
    "### Section II - Q2: # Plot the total number of films released per-decade (1890, 1900, 1910,....)\n",
    "- Hint: Dividing the year and multiplying with a number might give you the decade the year falls into!\n",
    "- You might need to sort before plotting"
   ]
  },
  {
   "cell_type": "code",
   "execution_count": 38,
   "metadata": {},
   "outputs": [
    {
     "name": "stdout",
     "output_type": "stream",
     "text": [
      "2010    75733\n",
      "2000    39452\n",
      "1990    22992\n",
      "1980    21034\n",
      "1970    19526\n",
      "1960    17976\n",
      "1950    12934\n",
      "1930    10388\n",
      "1920     9034\n",
      "1940     8718\n",
      "1910     6799\n",
      "2020      285\n",
      "1900       39\n",
      "1890        3\n",
      "2110        1\n",
      "Name: decade, dtype: int64\n"
     ]
    },
    {
     "data": {
      "image/png": "[encoded data removed]",
      "text/plain": [
       "<Figure size 432x288 with 1 Axes>"
      ]
     },
     "metadata": {},
     "output_type": "display_data"
    }
   ],
   "source": [
    "# movies_by_year_df = movies['year'].value_counts()\n",
    "#movies_by_year_df_sorted = movies_by_year_df.sort_values(by='year')\n",
    "# print(movies.head())\n",
    "\n",
    "def get_decade(year):\n",
    "    return int(year/10) *10\n",
    "\n",
    "\n",
    "movies['decade'] = movies['year'].apply(get_decade)\n",
    "import matplotlib.pyplot as plt\n",
    "movies = movies.sort_values(by='decade')\n",
    "movies_decade_count = movies['decade'].value_counts()\n",
    "# plt.hist(movies_decade_count, color='gray', alpha=0.5)\n",
    "# print(movies_decade_count)\n",
    "# print(type(movies_decade_count))\n",
    "movies_decade_count.plot(kind='bar')\n",
    "print(movies_decade_count)"
   ]
  },
  {
   "cell_type": "code",
   "execution_count": null,
   "metadata": {},
   "outputs": [],
   "source": []
  },
  {
   "cell_type": "code",
   "execution_count": null,
   "metadata": {},
   "outputs": [],
   "source": [
    "print(movies.head())"
   ]
  },
  {
   "cell_type": "markdown",
   "metadata": {},
   "source": [
    "### Section II - Q3: \n",
    "\n",
    "(A) What are the top 10 most common character names in movie history?\n",
    "\n",
    "(B) Who are the top 10 people most often credited as \"Herself\" in movie history?\n",
    "\n",
    "(C) Who are the top 10 people most often credited as \"Himself\" in movie history?"
   ]
  },
  {
   "cell_type": "code",
   "execution_count": 16,
   "metadata": {},
   "outputs": [
    {
     "name": "stdout",
     "output_type": "stream",
     "text": [
      "Himself        20746\n",
      "Dancer         12477\n",
      "Extra          11948\n",
      "Reporter        8434\n",
      "Student         7773\n",
      "Doctor          7669\n",
      "Party Guest     7245\n",
      "Policeman       7029\n",
      "Nurse           6999\n",
      "Bartender       6802\n",
      "Name: character, dtype: int64\n"
     ]
    }
   ],
   "source": [
    "print(cast['character'].value_counts()[:10])"
   ]
  },
  {
   "cell_type": "code",
   "execution_count": 23,
   "metadata": {},
   "outputs": [
    {
     "name": "stdout",
     "output_type": "stream",
     "text": [
      "                                                     title  year  \\\n",
      "0                                           Closet Monster  2015   \n",
      "1                                          Suuri illusioni  1985   \n",
      "2                                      Battle of the Sexes  2017   \n",
      "3                                     Secret in Their Eyes  2015   \n",
      "4                                               Steve Jobs  2015   \n",
      "5                                   Straight Outta Compton  2015   \n",
      "6                                   Straight Outta Compton  2015   \n",
      "7                                           For Thy Love 2  2009   \n",
      "8        Lapis, Ballpen at Diploma, a True to Life Journey  2014   \n",
      "9                                             Desire (III)  2014   \n",
      "10                                 When the Man Went South  2014   \n",
      "11                                 Little Angel (Angelita)  2015   \n",
      "12                                              Mixing Nia  1998   \n",
      "13                                        The Replacements  2000   \n",
      "14                                    All Out Dysfunktion!  2016   \n",
      "15                                                    Gook  2017   \n",
      "16                                         My Song for You  2010   \n",
      "17                                         My Song for You  2010   \n",
      "18                                            Hustle Beach  2017   \n",
      "19                                    Mariano Mison... NBI  1997   \n",
      "20                                          Natas es Satan  1977   \n",
      "21                                             Todo x Sara  2014   \n",
      "22                                        Barrio Gangsters  2009   \n",
      "23       Cornmeal, Gunpowder, Ham Hocks and Guitar Strings  2015   \n",
      "24                          The LXD: The Secrets of the Ra  2011   \n",
      "25                                       Pelotazo nacional  1993   \n",
      "26                                            Los tarantos  1963   \n",
      "27                                             De la calle  2001   \n",
      "28                                            Los tarantos  1963   \n",
      "29                                 They Want Dick Dickster  2015   \n",
      "...                                                    ...   ...   \n",
      "3786146                                 The Sky Has Fallen  2009   \n",
      "3786147                                              Virsa  2010   \n",
      "3786148                                             K (II)  2015   \n",
      "3786149                                   Dondurmam Gaymak  2005   \n",
      "3786150                                        Halam Geldi  2013   \n",
      "3786151                                           Musallat  2007   \n",
      "3786152                                      Acliga Doymak  2012   \n",
      "3786153                              Askin kesisme noktasi  1990   \n",
      "3786154                             Dislanmis/Lekeli melek  1993   \n",
      "3786155                                     Recep Ivedik 4  2014   \n",
      "3786156                                        Gise Memuru  2010   \n",
      "3786157                                         Issiz Adam  2008   \n",
      "3786158                   Niceland (Population. 1.000.002)  2004   \n",
      "3786159                                           Eldfjall  2011   \n",
      "3786160                                          Svanurinn  2017   \n",
      "3786161                                 Nei er ekkert svar  1995   \n",
      "3786162                                              Agnes  1995   \n",
      "3786163                                  Beowulf & Grendel  2005   \n",
      "3786164                                               Eden  2018   \n",
      "3786165                                            Dansinn  1998   \n",
      "3786166                                          Foreldrar  2007   \n",
      "3786167                                            Rokland  2011   \n",
      "3786168                                                 XL  2013   \n",
      "3786169                   Niceland (Population. 1.000.002)  2004   \n",
      "3786170                                     Stuttur Frakki  1993   \n",
      "3786171                                            Foxtrot  1988   \n",
      "3786172                   Niceland (Population. 1.000.002)  2004   \n",
      "3786173                                          Skammdegi  1985   \n",
      "3786174                                       U.S.S.S.S...  2003   \n",
      "3786175                                  Bye Bye Blue Bird  1999   \n",
      "\n",
      "                                   name     type  \\\n",
      "0                              Buffy #1    actor   \n",
      "1                                Homo $    actor   \n",
      "2                               $hutter    actor   \n",
      "3                               $hutter    actor   \n",
      "4                               $hutter    actor   \n",
      "5                               $hutter    actor   \n",
      "6                               $hutter    actor   \n",
      "7                          Bee Moe $lim    actor   \n",
      "8             Jori ' Danilo' Jurado Jr.    actor   \n",
      "9                      Syaiful 'Ariffin    actor   \n",
      "10                   Taipaleti 'Atu'ake    actor   \n",
      "11           Michael 'babeepower' Viera    actor   \n",
      "12           Michael 'babeepower' Viera    actor   \n",
      "13                    Steven 'Bear'Boyd    actor   \n",
      "14                Kirlew 'bliss' Vilbon    actor   \n",
      "15                Kirlew 'bliss' Vilbon    actor   \n",
      "16               George 'Bootsy' Thomas    actor   \n",
      "17               George 'Bootsy' Thomas    actor   \n",
      "18                Pete 'Boretta' Torres    actor   \n",
      "19                  Joseph 'Byron' Sese    actor   \n",
      "20                Ramon 'Cartucho' Pena    actor   \n",
      "21                   Gil 'Colibri'Viera    actor   \n",
      "22            Marcelino 'Dibujo' Torres    actor   \n",
      "23               Donnie 'Dicky' Clemson    actor   \n",
      "24           Dondraico 'Draico' Johnson    actor   \n",
      "25                      F?lix 'El Gato'    actor   \n",
      "26                           'El Guisa'    actor   \n",
      "27                      Luis 'El Plojo'    actor   \n",
      "28                            'El Viti'    actor   \n",
      "29                   Zhavier' (II) 'Fox    actor   \n",
      "...                                 ...      ...   \n",
      "3786146                    Preity ?pala  actress   \n",
      "3786147                    Preity ?pala  actress   \n",
      "3786148                        ?rchaihu  actress   \n",
      "3786149                     T?nay ?rper  actress   \n",
      "3786150                 Nesrin ?stkanat  actress   \n",
      "3786151                     Serap ?st?n  actress   \n",
      "3786152                 Zeyno ?st?nisik  actress   \n",
      "3786153                  Zuhal ?st?ntas  actress   \n",
      "3786154                  Zuhal ?st?ntas  actress   \n",
      "3786155                 Berna ??kaleler  actress   \n",
      "3786156                     Sevin? ??ok  actress   \n",
      "3786157                     Sevin? ??ok  actress   \n",
      "3786158           Hugr?n ?orfinnsd?ttir  actress   \n",
      "3786159         Katla M. ?orgeirsd?ttir  actress   \n",
      "3786160         Katla M. ?orgeirsd?ttir  actress   \n",
      "3786161       Gu?r?n B. ?orsteinsd?ttir  actress   \n",
      "3786162       Ingibj?rg ?orsteinsd?ttir  actress   \n",
      "3786163  Steinunn ?l?na ?orsteinsd?ttir  actress   \n",
      "3786164  Steinunn ?l?na ?orsteinsd?ttir  actress   \n",
      "3786165     Lilja Gu?r?n ?orvaldsd?ttir  actress   \n",
      "3786166     Lilja Gu?r?n ?orvaldsd?ttir  actress   \n",
      "3786167     Lilja Gu?r?n ?orvaldsd?ttir  actress   \n",
      "3786168     Lilja Gu?r?n ?orvaldsd?ttir  actress   \n",
      "3786169         Steinunn ?orvaldsd?ttir  actress   \n",
      "3786170       Sveinbj?rg ??rhallsd?ttir  actress   \n",
      "3786171               Lilja ??risd?ttir  actress   \n",
      "3786172       Sigr??ur J?na ??risd?ttir  actress   \n",
      "3786173              Dalla ??r?ard?ttir  actress   \n",
      "3786174     Krist?n Andrea ??r?ard?ttir  actress   \n",
      "3786175                    Rosa ? R?gvu  actress   \n",
      "\n",
      "                                       character     n  \n",
      "0                                        Buffy 4  31.0  \n",
      "1                                         Guests  22.0  \n",
      "2                                Bobby Riggs Fan  10.0  \n",
      "3                                2002 Dodger Fan   NaN  \n",
      "4                        1988 Opera House Patron   NaN  \n",
      "5                                    Club Patron   NaN  \n",
      "6                                        Dopeman   NaN  \n",
      "7                                         Thug 1   NaN  \n",
      "8                                  Jaime (young)   9.0  \n",
      "9         Actor Playing Eteocles from 'Antigone'   NaN  \n",
      "10                        Two Palms - Ua'i Paame   8.0  \n",
      "11                                         Chico   9.0  \n",
      "12                                        Rapper   NaN  \n",
      "13       Defensive Tackle - Washington Sentinels   NaN  \n",
      "14                                         Bliss   NaN  \n",
      "15                                         Bliss   NaN  \n",
      "16                             Cooley's Customer  16.0  \n",
      "17                             Celebration Guest  16.0  \n",
      "18                                          Tony   NaN  \n",
      "19                                   Putik's Son  31.0  \n",
      "20                              Nigth Club Owner   NaN  \n",
      "21                                       Llavero   NaN  \n",
      "22                                        Dibujo   NaN  \n",
      "23                                    Jeb Kinney   NaN  \n",
      "24                                         Umbra   NaN  \n",
      "25                                     Rebolledo  12.0  \n",
      "26                                       Bailaor  25.0  \n",
      "27                  Froil?n plaza del estudiante  80.0  \n",
      "28                                       Cantaor  20.0  \n",
      "29                             Dr. Shrinkalotsky  25.0  \n",
      "...                                          ...   ...  \n",
      "3786146                                   Skylar   NaN  \n",
      "3786147                                    Prema   NaN  \n",
      "3786148                      Castle Inn Singer 2   NaN  \n",
      "3786149                                   Seller   NaN  \n",
      "3786150                                    Melek   NaN  \n",
      "3786151                                   Zeynep   NaN  \n",
      "3786152                                    Selma   NaN  \n",
      "3786153                                 Hira Ana   NaN  \n",
      "3786154                                    Fatma   NaN  \n",
      "3786155                                    Simge   NaN  \n",
      "3786156                      Afar Shouting Woman  18.0  \n",
      "3786157                                      Ece   NaN  \n",
      "3786158                                    Diana  10.0  \n",
      "3786159                               Home Nurse   NaN  \n",
      "3786160                                     ?l?f   NaN  \n",
      "3786161                              Part?gestir  46.0  \n",
      "3786162                                     Kona  25.0  \n",
      "3786163                                Wealtheow  15.0  \n",
      "3786164                              M??ir Viggu   8.0  \n",
      "3786165                          S?slumannafr?in  13.0  \n",
      "3786166                             Katrin Eldri   NaN  \n",
      "3786167               A?albj?rg - Dagga's Mother   NaN  \n",
      "3786168                              Tengdamamma   NaN  \n",
      "3786169                           Factory Worker  21.0  \n",
      "3786170                               Flugfreyja  24.0  \n",
      "3786171                                     D?ra  24.0  \n",
      "3786172                             Woman in Bus  26.0  \n",
      "3786173                            Hj?krunarkona   9.0  \n",
      "3786174                   Afgr.dama ? bens?nst??  17.0  \n",
      "3786175                        Pensionatv?rtinde   NaN  \n",
      "\n",
      "[3780891 rows x 6 columns]\n"
     ]
    }
   ],
   "source": [
    "cast_by_name_character = cast.groupby(['name', 'character'])\n",
    "print(cast_by_name_character.head(20))"
   ]
  },
  {
   "cell_type": "code",
   "execution_count": null,
   "metadata": {},
   "outputs": [],
   "source": []
  },
  {
   "cell_type": "code",
   "execution_count": null,
   "metadata": {},
   "outputs": [],
   "source": []
  },
  {
   "cell_type": "code",
   "execution_count": null,
   "metadata": {},
   "outputs": [],
   "source": []
  },
  {
   "cell_type": "code",
   "execution_count": null,
   "metadata": {},
   "outputs": [],
   "source": []
  },
  {
   "cell_type": "code",
   "execution_count": null,
   "metadata": {},
   "outputs": [],
   "source": []
  },
  {
   "cell_type": "code",
   "execution_count": 29,
   "metadata": {},
   "outputs": [
    {
     "name": "stdout",
     "output_type": "stream",
     "text": [
      "                  title  year      name   type                character     n\n",
      "0        Closet Monster  2015  Buffy #1  actor                  Buffy 4  31.0\n",
      "1       Suuri illusioni  1985    Homo $  actor                   Guests  22.0\n",
      "2   Battle of the Sexes  2017   $hutter  actor          Bobby Riggs Fan  10.0\n",
      "3  Secret in Their Eyes  2015   $hutter  actor          2002 Dodger Fan   NaN\n",
      "4            Steve Jobs  2015   $hutter  actor  1988 Opera House Patron   NaN\n"
     ]
    }
   ],
   "source": [
    "print(cast.head())"
   ]
  },
  {
   "cell_type": "code",
   "execution_count": null,
   "metadata": {},
   "outputs": [],
   "source": []
  },
  {
   "cell_type": "code",
   "execution_count": null,
   "metadata": {},
   "outputs": [],
   "source": []
  },
  {
   "cell_type": "code",
   "execution_count": null,
   "metadata": {},
   "outputs": [],
   "source": []
  },
  {
   "cell_type": "code",
   "execution_count": null,
   "metadata": {},
   "outputs": [],
   "source": []
  },
  {
   "cell_type": "code",
   "execution_count": null,
   "metadata": {},
   "outputs": [],
   "source": []
  },
  {
   "cell_type": "code",
   "execution_count": null,
   "metadata": {},
   "outputs": [],
   "source": []
  },
  {
   "cell_type": "code",
   "execution_count": null,
   "metadata": {},
   "outputs": [],
   "source": []
  },
  {
   "cell_type": "markdown",
   "metadata": {},
   "source": [
    "### Section II - Q4: \n",
    "\n",
    "(A) What are the top 10 most frequent roles that start with the word \"Zombie\"?\n",
    "\n",
    "(B) What are the top 10 most frequent roles that start with the word \"Police\"?\n",
    "\n",
    "- Hint: The `startswith()` function might be useful"
   ]
  },
  {
   "cell_type": "code",
   "execution_count": 28,
   "metadata": {},
   "outputs": [
    {
     "name": "stdout",
     "output_type": "stream",
     "text": [
      "                                                  title  year  \\\n",
      "223                               Anthology of Horror 5  2017   \n",
      "278   The Legion of Supervillains the Official Music...  2013   \n",
      "380                                   Escaping the Dead  2017   \n",
      "930                                     Awaken the Dead  2007   \n",
      "979                                             Zombi 3  1988   \n",
      "1425                                 My Valentine Girls  2011   \n",
      "1694                                         Zibahkhana  2007   \n",
      "2510                                  Hsien of the Dead  2012   \n",
      "2511                                  Hsien of the Dead  2012   \n",
      "3629                                              Colin  2008   \n",
      "\n",
      "                      name   type                 character     n  \n",
      "223              Sergey A.  actor                    Zombie   NaN  \n",
      "278              Four A.M.  actor                    Zombie   NaN  \n",
      "380   Tobias Alring Aakast  actor                    Zombie   NaN  \n",
      "930          Geovanny Abad  actor                    Zombie  89.0  \n",
      "979           Rene Abadeza  actor                    Zombie   NaN  \n",
      "1425           Roger Abaya  actor  Zombie (segment \"Gunaw\")  35.0  \n",
      "1694          Qaiser Abbas  actor                    Zombie  32.0  \n",
      "2510          Fadhil Abdat  actor                    Zombie   NaN  \n",
      "2511            Naif Abdat  actor                    Zombie   NaN  \n",
      "3629    Bamshad Abedi-Amin  actor       Zombie Mugger - Hat  24.0  \n"
     ]
    }
   ],
   "source": [
    "roles_start_with_zombie = cast[cast['character'].str.startswith('Zombie')]\n",
    "print(roles_start_with_zombie[:10])"
   ]
  },
  {
   "cell_type": "code",
   "execution_count": null,
   "metadata": {},
   "outputs": [],
   "source": []
  },
  {
   "cell_type": "code",
   "execution_count": null,
   "metadata": {},
   "outputs": [],
   "source": []
  },
  {
   "cell_type": "code",
   "execution_count": null,
   "metadata": {},
   "outputs": [],
   "source": []
  },
  {
   "cell_type": "code",
   "execution_count": null,
   "metadata": {},
   "outputs": [],
   "source": []
  },
  {
   "cell_type": "code",
   "execution_count": null,
   "metadata": {},
   "outputs": [],
   "source": []
  },
  {
   "cell_type": "code",
   "execution_count": null,
   "metadata": {},
   "outputs": [],
   "source": []
  },
  {
   "cell_type": "markdown",
   "metadata": {},
   "source": [
    "### Section II - Q5: Plot how many roles 'Keanu Reeves' has played in each year of his career."
   ]
  },
  {
   "cell_type": "code",
   "execution_count": 33,
   "metadata": {},
   "outputs": [
    {
     "name": "stdout",
     "output_type": "stream",
     "text": [
      "      year\n",
      "year      \n",
      "1985     1\n",
      "1986     3\n",
      "1988     4\n",
      "1989     2\n",
      "1990     2\n",
      "1991     3\n",
      "1992     1\n",
      "1993     4\n",
      "1994     1\n",
      "1995     2\n",
      "1996     2\n",
      "1997     2\n",
      "1999     3\n",
      "2000     3\n",
      "2001     2\n",
      "2003     3\n",
      "2005     3\n",
      "2006     2\n",
      "2008     2\n",
      "2009     1\n",
      "2010     1\n",
      "2012     1\n",
      "2013     2\n",
      "2014     1\n",
      "2015     1\n",
      "2016     5\n",
      "2017     3\n",
      "2018     1\n",
      "2019     1\n"
     ]
    }
   ],
   "source": [
    "print(cast[cast['name'] == 'Keanu Reeves'].groupby('year').agg({'year':'count'}))"
   ]
  },
  {
   "cell_type": "markdown",
   "metadata": {},
   "source": [
    "### Section II - Q6: Plot the cast positions (n-values) of Keanu Reeve's roles through his career over the years.\n"
   ]
  },
  {
   "cell_type": "code",
   "execution_count": 35,
   "metadata": {},
   "outputs": [],
   "source": [
    "keanu_roles_n = cast[cast['name'] == 'Keanu Reeves']['n']"
   ]
  },
  {
   "cell_type": "code",
   "execution_count": 36,
   "metadata": {},
   "outputs": [
    {
     "data": {
      "text/plain": [
       "<matplotlib.axes._subplots.AxesSubplot at 0x158daf828>"
      ]
     },
     "execution_count": 36,
     "metadata": {},
     "output_type": "execute_result"
    },
    {
     "data": {
      "image/png": "[encoded data removed]",
      "text/plain": [
       "<Figure size 432x288 with 1 Axes>"
      ]
     },
     "metadata": {},
     "output_type": "display_data"
    }
   ],
   "source": [
    "keanu_roles_n.plot(kind='bar')"
   ]
  },
  {
   "cell_type": "code",
   "execution_count": null,
   "metadata": {},
   "outputs": [],
   "source": []
  },
  {
   "cell_type": "code",
   "execution_count": 34,
   "metadata": {},
   "outputs": [
    {
     "data": {
      "text/html": [
       "<div>\n",
       "<style scoped>\n",
       "    .dataframe tbody tr th:only-of-type {\n",
       "        vertical-align: middle;\n",
       "    }\n",
       "\n",
       "    .dataframe tbody tr th {\n",
       "        vertical-align: top;\n",
       "    }\n",
       "\n",
       "    .dataframe thead th {\n",
       "        text-align: right;\n",
       "    }\n",
       "</style>\n",
       "<table border=\"1\" class=\"dataframe\">\n",
       "  <thead>\n",
       "    <tr style=\"text-align: right;\">\n",
       "      <th></th>\n",
       "      <th>title</th>\n",
       "      <th>year</th>\n",
       "      <th>name</th>\n",
       "      <th>type</th>\n",
       "      <th>character</th>\n",
       "      <th>n</th>\n",
       "    </tr>\n",
       "  </thead>\n",
       "  <tbody>\n",
       "    <tr>\n",
       "      <th>0</th>\n",
       "      <td>Closet Monster</td>\n",
       "      <td>2015</td>\n",
       "      <td>Buffy #1</td>\n",
       "      <td>actor</td>\n",
       "      <td>Buffy 4</td>\n",
       "      <td>31.0</td>\n",
       "    </tr>\n",
       "    <tr>\n",
       "      <th>1</th>\n",
       "      <td>Suuri illusioni</td>\n",
       "      <td>1985</td>\n",
       "      <td>Homo $</td>\n",
       "      <td>actor</td>\n",
       "      <td>Guests</td>\n",
       "      <td>22.0</td>\n",
       "    </tr>\n",
       "    <tr>\n",
       "      <th>2</th>\n",
       "      <td>Battle of the Sexes</td>\n",
       "      <td>2017</td>\n",
       "      <td>$hutter</td>\n",
       "      <td>actor</td>\n",
       "      <td>Bobby Riggs Fan</td>\n",
       "      <td>10.0</td>\n",
       "    </tr>\n",
       "    <tr>\n",
       "      <th>3</th>\n",
       "      <td>Secret in Their Eyes</td>\n",
       "      <td>2015</td>\n",
       "      <td>$hutter</td>\n",
       "      <td>actor</td>\n",
       "      <td>2002 Dodger Fan</td>\n",
       "      <td>NaN</td>\n",
       "    </tr>\n",
       "    <tr>\n",
       "      <th>4</th>\n",
       "      <td>Steve Jobs</td>\n",
       "      <td>2015</td>\n",
       "      <td>$hutter</td>\n",
       "      <td>actor</td>\n",
       "      <td>1988 Opera House Patron</td>\n",
       "      <td>NaN</td>\n",
       "    </tr>\n",
       "  </tbody>\n",
       "</table>\n",
       "</div>"
      ],
      "text/plain": [
       "                  title  year      name   type                character     n\n",
       "0        Closet Monster  2015  Buffy #1  actor                  Buffy 4  31.0\n",
       "1       Suuri illusioni  1985    Homo $  actor                   Guests  22.0\n",
       "2   Battle of the Sexes  2017   $hutter  actor          Bobby Riggs Fan  10.0\n",
       "3  Secret in Their Eyes  2015   $hutter  actor          2002 Dodger Fan   NaN\n",
       "4            Steve Jobs  2015   $hutter  actor  1988 Opera House Patron   NaN"
      ]
     },
     "execution_count": 34,
     "metadata": {},
     "output_type": "execute_result"
    }
   ],
   "source": [
    "cast.head()"
   ]
  },
  {
   "cell_type": "code",
   "execution_count": null,
   "metadata": {},
   "outputs": [],
   "source": []
  },
  {
   "cell_type": "markdown",
   "metadata": {},
   "source": [
    "### Section II - Q7: Plot the number of \"Hamlet\" films made by each decade"
   ]
  },
  {
   "cell_type": "code",
   "execution_count": 43,
   "metadata": {},
   "outputs": [
    {
     "data": {
      "text/html": [
       "<div>\n",
       "<style scoped>\n",
       "    .dataframe tbody tr th:only-of-type {\n",
       "        vertical-align: middle;\n",
       "    }\n",
       "\n",
       "    .dataframe tbody tr th {\n",
       "        vertical-align: top;\n",
       "    }\n",
       "\n",
       "    .dataframe thead th {\n",
       "        text-align: right;\n",
       "    }\n",
       "</style>\n",
       "<table border=\"1\" class=\"dataframe\">\n",
       "  <thead>\n",
       "    <tr style=\"text-align: right;\">\n",
       "      <th></th>\n",
       "      <th>title</th>\n",
       "      <th>year</th>\n",
       "      <th>name</th>\n",
       "      <th>type</th>\n",
       "      <th>character</th>\n",
       "      <th>n</th>\n",
       "      <th>decade</th>\n",
       "    </tr>\n",
       "  </thead>\n",
       "  <tbody>\n",
       "    <tr>\n",
       "      <th>1731</th>\n",
       "      <td>Hamlet</td>\n",
       "      <td>1996</td>\n",
       "      <td>Riz Abbasi</td>\n",
       "      <td>actor</td>\n",
       "      <td>Attendant to Claudius</td>\n",
       "      <td>1.0</td>\n",
       "      <td>1990</td>\n",
       "    </tr>\n",
       "    <tr>\n",
       "      <th>4484</th>\n",
       "      <td>Royal Shakespeare Company: Hamlet</td>\n",
       "      <td>2016</td>\n",
       "      <td>Hiran Abeysekera</td>\n",
       "      <td>actor</td>\n",
       "      <td>Horatio</td>\n",
       "      <td>8.0</td>\n",
       "      <td>2010</td>\n",
       "    </tr>\n",
       "    <tr>\n",
       "      <th>6717</th>\n",
       "      <td>Hamlet, Prince of Denmark</td>\n",
       "      <td>1997</td>\n",
       "      <td>Ernest Abuba</td>\n",
       "      <td>actor</td>\n",
       "      <td>The King</td>\n",
       "      <td>NaN</td>\n",
       "      <td>1990</td>\n",
       "    </tr>\n",
       "    <tr>\n",
       "      <th>7789</th>\n",
       "      <td>Hamlet</td>\n",
       "      <td>1921</td>\n",
       "      <td>Fritz Achterberg</td>\n",
       "      <td>actor</td>\n",
       "      <td>Fortinbras,</td>\n",
       "      <td>9.0</td>\n",
       "      <td>1920</td>\n",
       "    </tr>\n",
       "    <tr>\n",
       "      <th>11728</th>\n",
       "      <td>Hamlet</td>\n",
       "      <td>2009</td>\n",
       "      <td>Hayden Adams</td>\n",
       "      <td>actor</td>\n",
       "      <td>Laertes</td>\n",
       "      <td>7.0</td>\n",
       "      <td>2000</td>\n",
       "    </tr>\n",
       "  </tbody>\n",
       "</table>\n",
       "</div>"
      ],
      "text/plain": [
       "                                   title  year              name   type  \\\n",
       "1731                              Hamlet  1996        Riz Abbasi  actor   \n",
       "4484   Royal Shakespeare Company: Hamlet  2016  Hiran Abeysekera  actor   \n",
       "6717           Hamlet, Prince of Denmark  1997      Ernest Abuba  actor   \n",
       "7789                              Hamlet  1921  Fritz Achterberg  actor   \n",
       "11728                             Hamlet  2009      Hayden Adams  actor   \n",
       "\n",
       "                   character    n  decade  \n",
       "1731   Attendant to Claudius  1.0    1990  \n",
       "4484                 Horatio  8.0    2010  \n",
       "6717                The King  NaN    1990  \n",
       "7789             Fortinbras,  9.0    1920  \n",
       "11728                Laertes  7.0    2000  "
      ]
     },
     "execution_count": 43,
     "metadata": {},
     "output_type": "execute_result"
    }
   ],
   "source": [
    "cast['decade'] = cast['year'].apply(get_decade)\n",
    "hamlet_films_df = cast[cast['title'].str.contains('hamlet', case=False)]\n",
    "hamlet_films_df.head()\n"
   ]
  },
  {
   "cell_type": "code",
   "execution_count": 44,
   "metadata": {},
   "outputs": [],
   "source": [
    "hamlet_films_decade_count = hamlet_films_df.groupby('decade').agg({'decade':'count'})"
   ]
  },
  {
   "cell_type": "code",
   "execution_count": 45,
   "metadata": {},
   "outputs": [
    {
     "data": {
      "text/plain": [
       "<matplotlib.axes._subplots.AxesSubplot at 0x137b02eb8>"
      ]
     },
     "execution_count": 45,
     "metadata": {},
     "output_type": "execute_result"
    },
    {
     "data": {
      "image/png": "[encoded data removed]",
      "text/plain": [
       "<Figure size 432x288 with 1 Axes>"
      ]
     },
     "metadata": {},
     "output_type": "display_data"
    }
   ],
   "source": [
    "hamlet_films_decade_count.plot(kind='bar')"
   ]
  },
  {
   "cell_type": "markdown",
   "metadata": {},
   "source": [
    "### Section II - Q8: \n",
    "\n",
    "(A) How many leading roles were available to both actors and actresses, in the 1960s (1960-1969)?\n",
    "\n",
    "(B) How many leading roles were available to both actors and actresses, in the 2000s (2000-2009)?\n",
    "\n",
    "- Hint: A specific value of n might indicate a leading role"
   ]
  },
  {
   "cell_type": "code",
   "execution_count": 46,
   "metadata": {},
   "outputs": [
    {
     "data": {
      "text/html": [
       "<div>\n",
       "<style scoped>\n",
       "    .dataframe tbody tr th:only-of-type {\n",
       "        vertical-align: middle;\n",
       "    }\n",
       "\n",
       "    .dataframe tbody tr th {\n",
       "        vertical-align: top;\n",
       "    }\n",
       "\n",
       "    .dataframe thead th {\n",
       "        text-align: right;\n",
       "    }\n",
       "</style>\n",
       "<table border=\"1\" class=\"dataframe\">\n",
       "  <thead>\n",
       "    <tr style=\"text-align: right;\">\n",
       "      <th></th>\n",
       "      <th>title</th>\n",
       "      <th>year</th>\n",
       "      <th>name</th>\n",
       "      <th>type</th>\n",
       "      <th>character</th>\n",
       "      <th>n</th>\n",
       "      <th>decade</th>\n",
       "    </tr>\n",
       "  </thead>\n",
       "  <tbody>\n",
       "    <tr>\n",
       "      <th>0</th>\n",
       "      <td>Closet Monster</td>\n",
       "      <td>2015</td>\n",
       "      <td>Buffy #1</td>\n",
       "      <td>actor</td>\n",
       "      <td>Buffy 4</td>\n",
       "      <td>31.0</td>\n",
       "      <td>2010</td>\n",
       "    </tr>\n",
       "    <tr>\n",
       "      <th>1</th>\n",
       "      <td>Suuri illusioni</td>\n",
       "      <td>1985</td>\n",
       "      <td>Homo $</td>\n",
       "      <td>actor</td>\n",
       "      <td>Guests</td>\n",
       "      <td>22.0</td>\n",
       "      <td>1980</td>\n",
       "    </tr>\n",
       "    <tr>\n",
       "      <th>2</th>\n",
       "      <td>Battle of the Sexes</td>\n",
       "      <td>2017</td>\n",
       "      <td>$hutter</td>\n",
       "      <td>actor</td>\n",
       "      <td>Bobby Riggs Fan</td>\n",
       "      <td>10.0</td>\n",
       "      <td>2010</td>\n",
       "    </tr>\n",
       "    <tr>\n",
       "      <th>3</th>\n",
       "      <td>Secret in Their Eyes</td>\n",
       "      <td>2015</td>\n",
       "      <td>$hutter</td>\n",
       "      <td>actor</td>\n",
       "      <td>2002 Dodger Fan</td>\n",
       "      <td>NaN</td>\n",
       "      <td>2010</td>\n",
       "    </tr>\n",
       "    <tr>\n",
       "      <th>4</th>\n",
       "      <td>Steve Jobs</td>\n",
       "      <td>2015</td>\n",
       "      <td>$hutter</td>\n",
       "      <td>actor</td>\n",
       "      <td>1988 Opera House Patron</td>\n",
       "      <td>NaN</td>\n",
       "      <td>2010</td>\n",
       "    </tr>\n",
       "  </tbody>\n",
       "</table>\n",
       "</div>"
      ],
      "text/plain": [
       "                  title  year      name   type                character     n  \\\n",
       "0        Closet Monster  2015  Buffy #1  actor                  Buffy 4  31.0   \n",
       "1       Suuri illusioni  1985    Homo $  actor                   Guests  22.0   \n",
       "2   Battle of the Sexes  2017   $hutter  actor          Bobby Riggs Fan  10.0   \n",
       "3  Secret in Their Eyes  2015   $hutter  actor          2002 Dodger Fan   NaN   \n",
       "4            Steve Jobs  2015   $hutter  actor  1988 Opera House Patron   NaN   \n",
       "\n",
       "   decade  \n",
       "0    2010  \n",
       "1    1980  \n",
       "2    2010  \n",
       "3    2010  \n",
       "4    2010  "
      ]
     },
     "execution_count": 46,
     "metadata": {},
     "output_type": "execute_result"
    }
   ],
   "source": [
    "cast.head()"
   ]
  },
  {
   "cell_type": "code",
   "execution_count": 65,
   "metadata": {},
   "outputs": [
    {
     "name": "stdout",
     "output_type": "stream",
     "text": [
      "119043\n"
     ]
    }
   ],
   "source": [
    "crit_a = (cast['decade'] == 1960)\n",
    "# Question: cast['type'] and cast['name'] are of the same type but when i do cast['type'] == 'actor', i get an error\n",
    "crit_b = (cast['type'].str.contains('actor') | cast['type'].str.contains('actress'))\n",
    "crit_c = (cast['n'] <= 20)\n",
    "cast_1960s = cast[crit_a & crit_b  & crit_c ]\n",
    "print(len(cast_1960s))"
   ]
  },
  {
   "cell_type": "code",
   "execution_count": 66,
   "metadata": {},
   "outputs": [
    {
     "name": "stdout",
     "output_type": "stream",
     "text": [
      "320698\n"
     ]
    }
   ],
   "source": [
    "crit_a = (cast['decade'] == 2000)\n",
    "cast_2000s = cast[crit_a & crit_b & crit_c]\n",
    "print(len(cast_2000s))"
   ]
  },
  {
   "cell_type": "markdown",
   "metadata": {},
   "source": [
    "### Section II - Q9: List, in order by year, each of the films in which Frank Oz has played more than 1 role."
   ]
  },
  {
   "cell_type": "code",
   "execution_count": 81,
   "metadata": {},
   "outputs": [],
   "source": [
    "frank_oz_roles_df = cast[cast['name'] == 'Frank Oz']\n",
    "cast_sorted_year = cast.sort_values(by='year')"
   ]
  },
  {
   "cell_type": "code",
   "execution_count": null,
   "metadata": {},
   "outputs": [],
   "source": []
  },
  {
   "cell_type": "code",
   "execution_count": 82,
   "metadata": {},
   "outputs": [],
   "source": [
    "frank_oz_by_title_count = cast_sorted_year.groupby('title').agg({'title':'count'})"
   ]
  },
  {
   "cell_type": "code",
   "execution_count": null,
   "metadata": {},
   "outputs": [],
   "source": []
  },
  {
   "cell_type": "code",
   "execution_count": 83,
   "metadata": {},
   "outputs": [
    {
     "name": "stdout",
     "output_type": "stream",
     "text": [
      "                                                  title  year      name  \\\n",
      "1723598                  An American Werewolf in London  1981  Frank Oz   \n",
      "1723599                  An American Werewolf in London  1981  Frank Oz   \n",
      "1723600                             Blues Brothers 2000  1998  Frank Oz   \n",
      "1723601                                Follow That Bird  1985  Frank Oz   \n",
      "1723602                                Follow That Bird  1985  Frank Oz   \n",
      "1723603                                Follow That Bird  1985  Frank Oz   \n",
      "1723604                                  Innocent Blood  1992  Frank Oz   \n",
      "1723605                                      Inside Out  2015  Frank Oz   \n",
      "1723606                                       Labyrinth  1986  Frank Oz   \n",
      "1723607                                  Monsters, Inc.  2001  Frank Oz   \n",
      "1723608                          Muppet Treasure Island  1996  Frank Oz   \n",
      "1723609                          Muppet Treasure Island  1996  Frank Oz   \n",
      "1723610                          Muppet Treasure Island  1996  Frank Oz   \n",
      "1723611                          Muppet Treasure Island  1996  Frank Oz   \n",
      "1723612                              Muppets from Space  1999  Frank Oz   \n",
      "1723613                              Muppets from Space  1999  Frank Oz   \n",
      "1723614                              Muppets from Space  1999  Frank Oz   \n",
      "1723615                              Muppets from Space  1999  Frank Oz   \n",
      "1723616          Sesame Street: C is for Cookie Monster  2010  Frank Oz   \n",
      "1723617                                   Spies Like Us  1985  Frank Oz   \n",
      "1723618       Star Wars: Episode I - The Phantom Menace  1999  Frank Oz   \n",
      "1723619    Star Wars: Episode II - Attack of the Clones  2002  Frank Oz   \n",
      "1723620    Star Wars: Episode III - Revenge of the Sith  2005  Frank Oz   \n",
      "1723621  Star Wars: Episode V - The Empire Strikes Back  1980  Frank Oz   \n",
      "1723622      Star Wars: Episode VI - Return of the Jedi  1983  Frank Oz   \n",
      "1723623      Star Wars: Episode VII - The Force Awakens  2015  Frank Oz   \n",
      "1723624                                    Superman III  1983  Frank Oz   \n",
      "1723625            The Adventures of Elmo in Grouchland  1999  Frank Oz   \n",
      "1723626            The Adventures of Elmo in Grouchland  1999  Frank Oz   \n",
      "1723627            The Adventures of Elmo in Grouchland  1999  Frank Oz   \n",
      "...                                                 ...   ...       ...   \n",
      "1723632                          The Great Muppet Caper  1981  Frank Oz   \n",
      "1723633                          The Great Muppet Caper  1981  Frank Oz   \n",
      "1723634                          The Great Muppet Caper  1981  Frank Oz   \n",
      "1723635                          The Great Muppet Caper  1981  Frank Oz   \n",
      "1723636                          The Great Muppet Caper  1981  Frank Oz   \n",
      "1723637                          The Great Muppet Caper  1981  Frank Oz   \n",
      "1723638                      The Muppet Christmas Carol  1992  Frank Oz   \n",
      "1723639                      The Muppet Christmas Carol  1992  Frank Oz   \n",
      "1723640                      The Muppet Christmas Carol  1992  Frank Oz   \n",
      "1723641                      The Muppet Christmas Carol  1992  Frank Oz   \n",
      "1723642                      The Muppet Christmas Carol  1992  Frank Oz   \n",
      "1723643                      The Muppet Christmas Carol  1992  Frank Oz   \n",
      "1723644                      The Muppet Christmas Carol  1992  Frank Oz   \n",
      "1723645                                The Muppet Movie  1979  Frank Oz   \n",
      "1723646                                The Muppet Movie  1979  Frank Oz   \n",
      "1723647                                The Muppet Movie  1979  Frank Oz   \n",
      "1723648                                The Muppet Movie  1979  Frank Oz   \n",
      "1723649                                The Muppet Movie  1979  Frank Oz   \n",
      "1723650                                The Muppet Movie  1979  Frank Oz   \n",
      "1723651                                The Muppet Movie  1979  Frank Oz   \n",
      "1723652                                The Muppet Movie  1979  Frank Oz   \n",
      "1723653                      The Muppets Take Manhattan  1984  Frank Oz   \n",
      "1723654                      The Muppets Take Manhattan  1984  Frank Oz   \n",
      "1723655                      The Muppets Take Manhattan  1984  Frank Oz   \n",
      "1723656                      The Muppets Take Manhattan  1984  Frank Oz   \n",
      "1723657                      The Muppets Take Manhattan  1984  Frank Oz   \n",
      "1723658                      The Muppets Take Manhattan  1984  Frank Oz   \n",
      "1723659                      The Muppets Take Manhattan  1984  Frank Oz   \n",
      "1723660                                  Trading Places  1983  Frank Oz   \n",
      "1723661                      Zathura: A Space Adventure  2005  Frank Oz   \n",
      "\n",
      "          type                                          character     n  \\\n",
      "1723598  actor                                        Mr. Collins  13.0   \n",
      "1723599  actor                                         Miss Piggy  13.0   \n",
      "1723600  actor                                             Warden   4.0   \n",
      "1723601  actor                                     Cookie Monster   3.0   \n",
      "1723602  actor                                               Bert   3.0   \n",
      "1723603  actor                                             Grover   3.0   \n",
      "1723604  actor                                        Pathologist  21.0   \n",
      "1723605  actor                            Subconscious Guard Dave  14.0   \n",
      "1723606  actor                                        The Wiseman  17.0   \n",
      "1723607  actor                                             Fungus   9.0   \n",
      "1723608  actor                                         Miss Piggy  14.0   \n",
      "1723609  actor                                        Fozzie Bear  14.0   \n",
      "1723610  actor                                      Sam the Eagle  14.0   \n",
      "1723611  actor                                             Animal  14.0   \n",
      "1723612  actor                                         Miss Piggy   7.0   \n",
      "1723613  actor                                        Fozzie Bear   7.0   \n",
      "1723614  actor                                             Animal   7.0   \n",
      "1723615  actor                                      Sam the Eagle   7.0   \n",
      "1723616  actor                                     Cookie Monster   NaN   \n",
      "1723617  actor                                       Test Monitor   9.0   \n",
      "1723618  actor                                               Yoda  12.0   \n",
      "1723619  actor                                               Yoda   6.0   \n",
      "1723620  actor                                               Yoda   7.0   \n",
      "1723621  actor                                               Yoda   9.0   \n",
      "1723622  actor                                               Yoda   9.0   \n",
      "1723623  actor                                               Yoda   NaN   \n",
      "1723624  actor                                      Brain Surgeon   NaN   \n",
      "1723625  actor                                               Bert  16.0   \n",
      "1723626  actor                                             Grover  16.0   \n",
      "1723627  actor                                     Cookie Monster  16.0   \n",
      "...        ...                                                ...   ...   \n",
      "1723632  actor                                         Miss Piggy   2.0   \n",
      "1723633  actor                                        Fozzie Bear   2.0   \n",
      "1723634  actor                                             Animal   2.0   \n",
      "1723635  actor                                      Sam the Eagle   2.0   \n",
      "1723636  actor                                             Gramps   2.0   \n",
      "1723637  actor                                       Swedish Chef   2.0   \n",
      "1723638  actor                       Miss Piggy as Emily Cratchit   5.0   \n",
      "1723639  actor                           Fozzie Bear as Fozziewig   5.0   \n",
      "1723640  actor  Sam the Eagle as Headmaster of Junior High Gra...   5.0   \n",
      "1723641  actor                                             Animal   5.0   \n",
      "1723642  actor                                 George the Janitor   5.0   \n",
      "1723643  actor                          Horse and Carriage Driver   5.0   \n",
      "1723644  actor                                 Vegetable Salesman   5.0   \n",
      "1723645  actor                                         Miss Piggy   2.0   \n",
      "1723646  actor                                        Fozzie Bear   2.0   \n",
      "1723647  actor                                             Animal   2.0   \n",
      "1723648  actor                                      Sam the Eagle   2.0   \n",
      "1723649  actor                                   Doc Hopper's Men   2.0   \n",
      "1723650  actor                                       Marvin Suggs   2.0   \n",
      "1723651  actor                           Swedish Chef (assistant)   2.0   \n",
      "1723652  actor                                     Motorcycle Guy   2.0   \n",
      "1723653  actor                                         Miss Piggy   2.0   \n",
      "1723654  actor                                             Fozzie   2.0   \n",
      "1723655  actor                                             Animal   2.0   \n",
      "1723656  actor                                               Bert   2.0   \n",
      "1723657  actor                                     Cookie Monster   2.0   \n",
      "1723658  actor                     Ocean Breeze Soap Board Member   2.0   \n",
      "1723659  actor                                      Sam the Eagle   2.0   \n",
      "1723660  actor                                        Corrupt Cop  46.0   \n",
      "1723661  actor                                              Robot   6.0   \n",
      "\n",
      "         decade  \n",
      "1723598    1980  \n",
      "1723599    1980  \n",
      "1723600    1990  \n",
      "1723601    1980  \n",
      "1723602    1980  \n",
      "1723603    1980  \n",
      "1723604    1990  \n",
      "1723605    2010  \n",
      "1723606    1980  \n",
      "1723607    2000  \n",
      "1723608    1990  \n",
      "1723609    1990  \n",
      "1723610    1990  \n",
      "1723611    1990  \n",
      "1723612    1990  \n",
      "1723613    1990  \n",
      "1723614    1990  \n",
      "1723615    1990  \n",
      "1723616    2010  \n",
      "1723617    1980  \n",
      "1723618    1990  \n",
      "1723619    2000  \n",
      "1723620    2000  \n",
      "1723621    1980  \n",
      "1723622    1980  \n",
      "1723623    2010  \n",
      "1723624    1980  \n",
      "1723625    1990  \n",
      "1723626    1990  \n",
      "1723627    1990  \n",
      "...         ...  \n",
      "1723632    1980  \n",
      "1723633    1980  \n",
      "1723634    1980  \n",
      "1723635    1980  \n",
      "1723636    1980  \n",
      "1723637    1980  \n",
      "1723638    1990  \n",
      "1723639    1990  \n",
      "1723640    1990  \n",
      "1723641    1990  \n",
      "1723642    1990  \n",
      "1723643    1990  \n",
      "1723644    1990  \n",
      "1723645    1970  \n",
      "1723646    1970  \n",
      "1723647    1970  \n",
      "1723648    1970  \n",
      "1723649    1970  \n",
      "1723650    1970  \n",
      "1723651    1970  \n",
      "1723652    1970  \n",
      "1723653    1980  \n",
      "1723654    1980  \n",
      "1723655    1980  \n",
      "1723656    1980  \n",
      "1723657    1980  \n",
      "1723658    1980  \n",
      "1723659    1980  \n",
      "1723660    1980  \n",
      "1723661    2000  \n",
      "\n",
      "[64 rows x 7 columns]\n"
     ]
    }
   ],
   "source": [
    "print(frank_oz_roles_df)\n",
    "# print(frank_oz_by_title_count.head())"
   ]
  },
  {
   "cell_type": "markdown",
   "metadata": {},
   "source": [
    "### Section II - Q10: List each of the characters that Frank Oz has portrayed at least twice"
   ]
  },
  {
   "cell_type": "code",
   "execution_count": 93,
   "metadata": {},
   "outputs": [
    {
     "name": "stdout",
     "output_type": "stream",
     "text": [
      "<class 'pandas.core.frame.DataFrame'>\n",
      "Index: 35 entries, Animal to Yoda\n",
      "Data columns (total 1 columns):\n",
      "character    35 non-null int64\n",
      "dtypes: int64(1)\n",
      "memory usage: 560.0+ bytes\n",
      "None\n"
     ]
    }
   ],
   "source": [
    "character_count = frank_oz_roles_df.groupby('character').agg({'character':'count'})\n",
    "# how do i map the result to columns so i can do > 2?\n",
    "print(character_count.info())"
   ]
  },
  {
   "cell_type": "markdown",
   "metadata": {},
   "source": [
    "# Section III - Advanced Merging, Querying and Visualizations"
   ]
  },
  {
   "cell_type": "markdown",
   "metadata": {},
   "source": [
    "## Make a bar plot with the following conditions\n",
    "- Frequency of the number of movies with \"Christmas\" in their title \n",
    "- Movies should be such that they are released in the USA.\n",
    "- Show the frequency plot by month"
   ]
  },
  {
   "cell_type": "code",
   "execution_count": null,
   "metadata": {},
   "outputs": [],
   "source": [
    "christmas = release_dates[(release_dates.title.str.contains('Christmas')) & (release_dates.country == 'USA')]\n",
    "christmas.date.dt.month.value_counts().sort_index().plot(kind='bar')"
   ]
  },
  {
   "cell_type": "markdown",
   "metadata": {},
   "source": [
    "### Section III - Q1: Make a bar plot with the following conditions\n",
    "- Frequency of the number of movies with \"Summer\" in their title \n",
    "- Movies should be such that they are released in the USA.\n",
    "- Show the frequency plot by month"
   ]
  },
  {
   "cell_type": "code",
   "execution_count": null,
   "metadata": {},
   "outputs": [],
   "source": []
  },
  {
   "cell_type": "markdown",
   "metadata": {},
   "source": [
    "### Section III - Q2: Make a bar plot with the following conditions\n",
    "- Frequency of the number of movies with \"Action\" in their title \n",
    "- Movies should be such that they are released in the USA.\n",
    "- Show the frequency plot by week"
   ]
  },
  {
   "cell_type": "code",
   "execution_count": null,
   "metadata": {},
   "outputs": [],
   "source": []
  },
  {
   "cell_type": "markdown",
   "metadata": {},
   "source": [
    "### Section III - Q3: Show all the movies in which Keanu Reeves has played the lead role along with their   release date in the USA sorted by the date of release\n",
    "- Hint: You might need to join or merge two datasets!"
   ]
  },
  {
   "cell_type": "code",
   "execution_count": null,
   "metadata": {},
   "outputs": [],
   "source": [
    " "
   ]
  },
  {
   "cell_type": "markdown",
   "metadata": {},
   "source": [
    "### Section III - Q4: Make a bar plot showing the months in which movies with Keanu Reeves tend to be released in the USA?"
   ]
  },
  {
   "cell_type": "code",
   "execution_count": null,
   "metadata": {},
   "outputs": [],
   "source": []
  },
  {
   "cell_type": "markdown",
   "metadata": {},
   "source": [
    "### Section III - Q5: Make a bar plot showing the years in which movies with Ian McKellen tend to be released in the USA?"
   ]
  },
  {
   "cell_type": "code",
   "execution_count": null,
   "metadata": {},
   "outputs": [],
   "source": []
  }
 ],
 "metadata": {
  "kernelspec": {
   "display_name": "Python 3",
   "language": "python",
   "name": "python3"
  },
  "language_info": {
   "codemirror_mode": {
    "name": "ipython",
    "version": 3
   },
   "file_extension": ".py",
   "mimetype": "text/x-python",
   "name": "python",
   "nbconvert_exporter": "python",
   "pygments_lexer": "ipython3",
   "version": "3.6.8"
  }
 },
 "nbformat": 4,
 "nbformat_minor": 2
}
